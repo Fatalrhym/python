{
  "nbformat": 4,
  "nbformat_minor": 0,
  "metadata": {
    "colab": {
      "name": "07_10_21_python.ipynb",
      "provenance": [],
      "authorship_tag": "ABX9TyMywpqO5a3ENx7no+27Ae8y",
      "include_colab_link": true
    },
    "kernelspec": {
      "name": "python3",
      "display_name": "Python 3"
    },
    "language_info": {
      "name": "python"
    }
  },
  "cells": [
    {
      "cell_type": "markdown",
      "metadata": {
        "id": "view-in-github",
        "colab_type": "text"
      },
      "source": [
        "<a href=\"https://colab.research.google.com/github/Fatalrhym/python/blob/main/07_10_21_python.ipynb\" target=\"_parent\"><img src=\"https://colab.research.google.com/assets/colab-badge.svg\" alt=\"Open In Colab\"/></a>"
      ]
    },
    {
      "cell_type": "code",
      "metadata": {
        "id": "9FoT-kDk3A--"
      },
      "source": [
        "metodlar = "
      ],
      "execution_count": null,
      "outputs": []
    },
    {
      "cell_type": "code",
      "metadata": {
        "colab": {
          "base_uri": "https://localhost:8080/"
        },
        "id": "rVc8fWIZ3IBu",
        "outputId": "6e5df0b2-319e-4dbd-feee-22830d37c542"
      },
      "source": [
        "print(\"stringler {}\".format(\"a\"))"
      ],
      "execution_count": 5,
      "outputs": [
        {
          "output_type": "stream",
          "name": "stdout",
          "text": [
            "stringler a\n"
          ]
        }
      ]
    },
    {
      "cell_type": "code",
      "metadata": {
        "id": "KPTk-Dp_31N7"
      },
      "source": [
        "saat = \"05:00\"\n",
        "yer = \"okul\"\n",
        "miktar = 2"
      ],
      "execution_count": 8,
      "outputs": []
    },
    {
      "cell_type": "code",
      "metadata": {
        "colab": {
          "base_uri": "https://localhost:8080/",
          "height": 35
        },
        "id": "6M4zKKEL31Kf",
        "outputId": "d208b531-d29e-490e-c499-75d6299da94e"
      },
      "source": [
        "\"ben sabah {} de uyandım. {}'a gittm. Gelirken de {} kg elma aldım.\".format(saat, yer, miktar)"
      ],
      "execution_count": 10,
      "outputs": [
        {
          "output_type": "execute_result",
          "data": {
            "application/vnd.google.colaboratory.intrinsic+json": {
              "type": "string"
            },
            "text/plain": [
              "\"ben sabah 05:00 de uyandım. okul'a gittm. Gelirken de 2 kg elma aldım.\""
            ]
          },
          "metadata": {},
          "execution_count": 10
        }
      ]
    },
    {
      "cell_type": "code",
      "metadata": {
        "colab": {
          "base_uri": "https://localhost:8080/"
        },
        "id": "IizWfHRN_2tU",
        "outputId": "7b3f60c8-2afa-4a97-9d0b-d13c7fdcbded"
      },
      "source": [
        "phrase = \"{2} {3} {1} {0}\".format(\"circumstances\", \"in all\", \"generosity\", \"wins\")\n",
        "print(phrase)"
      ],
      "execution_count": 11,
      "outputs": [
        {
          "output_type": "stream",
          "name": "stdout",
          "text": [
            "generosity wins in all circumstances\n"
          ]
        }
      ]
    },
    {
      "cell_type": "code",
      "metadata": {
        "colab": {
          "base_uri": "https://localhost:8080/",
          "height": 35
        },
        "id": "4Iu6N3g731Dx",
        "outputId": "990a6a39-7e2b-4220-f359-5381ded98f65"
      },
      "source": [
        "f\"ben sabah {saat} de uyandım\""
      ],
      "execution_count": 15,
      "outputs": [
        {
          "output_type": "execute_result",
          "data": {
            "application/vnd.google.colaboratory.intrinsic+json": {
              "type": "string"
            },
            "text/plain": [
              "'ben sabah 05:00 de uyandım'"
            ]
          },
          "metadata": {},
          "execution_count": 15
        }
      ]
    },
    {
      "cell_type": "code",
      "metadata": {
        "colab": {
          "base_uri": "https://localhost:8080/"
        },
        "id": "IYKC53NQ303K",
        "outputId": "b50fc6e2-c34b-4b19-f3af-7f57ae67cf9d"
      },
      "source": [
        "text = f\"{str(11)+'11'}\"\n",
        "print(text)"
      ],
      "execution_count": 16,
      "outputs": [
        {
          "output_type": "stream",
          "name": "stdout",
          "text": [
            "1111\n"
          ]
        }
      ]
    },
    {
      "cell_type": "code",
      "metadata": {
        "colab": {
          "base_uri": "https://localhost:8080/"
        },
        "id": "8oqDXwht30sr",
        "outputId": "50a70812-20b2-4e5d-fcbd-59e03955108b"
      },
      "source": [
        "text = f\"ali veli {'seli'.replace('s', 'd')}\"\n",
        "print(text)"
      ],
      "execution_count": 18,
      "outputs": [
        {
          "output_type": "stream",
          "name": "stdout",
          "text": [
            "ali veli deli\n"
          ]
        }
      ]
    },
    {
      "cell_type": "code",
      "metadata": {
        "colab": {
          "base_uri": "https://localhost:8080/"
        },
        "id": "n9pqgugqCXJH",
        "outputId": "a65ceb7e-4e9b-40a4-bd03-991af50f3e31"
      },
      "source": [
        "name = \"MARIAM\"\n",
        "text =f\"My name is {name.capitalize()}\"\n",
        "print(text)"
      ],
      "execution_count": 24,
      "outputs": [
        {
          "output_type": "stream",
          "name": "stdout",
          "text": [
            "My name is Mariam\n"
          ]
        }
      ]
    },
    {
      "cell_type": "code",
      "metadata": {
        "colab": {
          "base_uri": "https://localhost:8080/"
        },
        "id": "31YxE9V9CYgz",
        "outputId": "035f3a35-79dc-4b19-85bb-eac5d85b9426"
      },
      "source": [
        "name = \"joseph\"\n",
        "job = \"teachers\"\n",
        "domain = \"Data Science\"\n",
        "message = (\n",
        "    f\"Hi {name}. \"\n",
        "    f\"You are one of the {job} \"\n",
        "    f\"in the {domain} section.\"\n",
        ")\n",
        "print(message)"
      ],
      "execution_count": 29,
      "outputs": [
        {
          "output_type": "stream",
          "name": "stdout",
          "text": [
            "Hi joseph. You are one of the teachers in the Data Science section.\n"
          ]
        }
      ]
    },
    {
      "cell_type": "code",
      "metadata": {
        "colab": {
          "base_uri": "https://localhost:8080/",
          "height": 35
        },
        "id": "YflKKH9oCYcc",
        "outputId": "1531bf17-c6b2-4dc5-a4a0-4879bf0983db"
      },
      "source": [
        "name = \"Susan\"\n",
        "age = \"young\"\n",
        "gender = \"lady\"\n",
        "school = \"CLRWY IT university\"\n",
        "(\n",
        "    f\"{name} is a {age} {gender} and she is a student\"\n",
        "    f\"at the {school}\"\n",
        "\n",
        ")"
      ],
      "execution_count": 31,
      "outputs": [
        {
          "output_type": "execute_result",
          "data": {
            "application/vnd.google.colaboratory.intrinsic+json": {
              "type": "string"
            },
            "text/plain": [
              "'Susan is a young lady and she is a studentat the CLRWY IT university'"
            ]
          },
          "metadata": {},
          "execution_count": 31
        }
      ]
    },
    {
      "cell_type": "code",
      "metadata": {
        "id": "OWIOQcdeQBc7"
      },
      "source": [
        "para = 1000"
      ],
      "execution_count": 40,
      "outputs": []
    },
    {
      "cell_type": "code",
      "metadata": {
        "colab": {
          "base_uri": "https://localhost:8080/"
        },
        "id": "yC0DcqsnCYYT",
        "outputId": "527ec2c9-821d-48cd-df08-e4cee2a12896"
      },
      "source": [
        "para = para + para * 0.07  # pazartesi\n",
        "para"
      ],
      "execution_count": 42,
      "outputs": [
        {
          "output_type": "execute_result",
          "data": {
            "text/plain": [
              "1144.9"
            ]
          },
          "metadata": {},
          "execution_count": 42
        }
      ]
    },
    {
      "cell_type": "code",
      "metadata": {
        "colab": {
          "base_uri": "https://localhost:8080/"
        },
        "id": "cVSnB5IeCYT5",
        "outputId": "6267004a-d225-4aad-dce5-0d640e712ccb"
      },
      "source": [
        "para = para + para * 0.07  # salı\n",
        "para"
      ],
      "execution_count": 34,
      "outputs": [
        {
          "output_type": "execute_result",
          "data": {
            "text/plain": [
              "1144.9"
            ]
          },
          "metadata": {},
          "execution_count": 34
        }
      ]
    },
    {
      "cell_type": "code",
      "metadata": {
        "colab": {
          "base_uri": "https://localhost:8080/"
        },
        "id": "xPY321alCYRA",
        "outputId": "bb1049ba-bbf5-4d30-adaf-bd86d42bf363"
      },
      "source": [
        "para = para + para * 0.07  # çarşamba\n",
        "para"
      ],
      "execution_count": 35,
      "outputs": [
        {
          "output_type": "execute_result",
          "data": {
            "text/plain": [
              "1225.0430000000001"
            ]
          },
          "metadata": {},
          "execution_count": 35
        }
      ]
    },
    {
      "cell_type": "code",
      "metadata": {
        "colab": {
          "base_uri": "https://localhost:8080/"
        },
        "id": "XR02YTad30kx",
        "outputId": "c43162e0-5b37-4c19-b37a-b122cb5d8b2a"
      },
      "source": [
        "para = para + para * 0.07  # perşembe\n",
        "para"
      ],
      "execution_count": 36,
      "outputs": [
        {
          "output_type": "execute_result",
          "data": {
            "text/plain": [
              "1310.79601"
            ]
          },
          "metadata": {},
          "execution_count": 36
        }
      ]
    },
    {
      "cell_type": "code",
      "metadata": {
        "colab": {
          "base_uri": "https://localhost:8080/"
        },
        "id": "loU8IZueP2ar",
        "outputId": "86841278-f622-4b29-990d-dd955651011c"
      },
      "source": [
        "para = para + para * 0.07  # cuma\n",
        "para"
      ],
      "execution_count": 37,
      "outputs": [
        {
          "output_type": "execute_result",
          "data": {
            "text/plain": [
              "1402.5517307"
            ]
          },
          "metadata": {},
          "execution_count": 37
        }
      ]
    },
    {
      "cell_type": "code",
      "metadata": {
        "colab": {
          "base_uri": "https://localhost:8080/"
        },
        "id": "jB8FkMUiP2WP",
        "outputId": "68ada447-d644-4ccc-edd4-2fc846d4d552"
      },
      "source": [
        "para = para + para * 0.07  # cumartesi\n",
        "para"
      ],
      "execution_count": 38,
      "outputs": [
        {
          "output_type": "execute_result",
          "data": {
            "text/plain": [
              "1500.730351849"
            ]
          },
          "metadata": {},
          "execution_count": 38
        }
      ]
    },
    {
      "cell_type": "code",
      "metadata": {
        "colab": {
          "base_uri": "https://localhost:8080/"
        },
        "id": "T31mZdrRP2TQ",
        "outputId": "2291555e-6af0-4102-cdc9-f289e9842231"
      },
      "source": [
        "para = para + para * 0.07  # pazar\n",
        "para"
      ],
      "execution_count": 39,
      "outputs": [
        {
          "output_type": "execute_result",
          "data": {
            "text/plain": [
              "1605.78147647843"
            ]
          },
          "metadata": {},
          "execution_count": 39
        }
      ]
    },
    {
      "cell_type": "code",
      "metadata": {
        "id": "0Rw2e2pSP2Mk"
      },
      "source": [
        "para = 1000"
      ],
      "execution_count": null,
      "outputs": []
    },
    {
      "cell_type": "code",
      "metadata": {
        "colab": {
          "base_uri": "https://localhost:8080/",
          "height": 163
        },
        "id": "bZ46jFP5P2HK",
        "outputId": "7e9d5cdd-2987-46e7-c50f-b9a080bfd6d0"
      },
      "source": [
        "f = open(\"why_IT\", \"r\")"
      ],
      "execution_count": 49,
      "outputs": [
        {
          "output_type": "error",
          "ename": "FileNotFoundError",
          "evalue": "ignored",
          "traceback": [
            "\u001b[0;31m---------------------------------------------------------------------------\u001b[0m",
            "\u001b[0;31mFileNotFoundError\u001b[0m                         Traceback (most recent call last)",
            "\u001b[0;32m<ipython-input-49-3b482aad82c1>\u001b[0m in \u001b[0;36m<module>\u001b[0;34m()\u001b[0m\n\u001b[0;32m----> 1\u001b[0;31m \u001b[0mf\u001b[0m \u001b[0;34m=\u001b[0m \u001b[0mopen\u001b[0m\u001b[0;34m(\u001b[0m\u001b[0;34m\"why_IT\"\u001b[0m\u001b[0;34m,\u001b[0m \u001b[0;34m\"r\"\u001b[0m\u001b[0;34m)\u001b[0m\u001b[0;34m\u001b[0m\u001b[0;34m\u001b[0m\u001b[0m\n\u001b[0m",
            "\u001b[0;31mFileNotFoundError\u001b[0m: [Errno 2] No such file or directory: 'why_IT'"
          ]
        }
      ]
    },
    {
      "cell_type": "code",
      "metadata": {
        "colab": {
          "base_uri": "https://localhost:8080/"
        },
        "id": "iSKhtZBdSSwi",
        "outputId": "7e13b666-3ad7-4ade-e14f-b78d466d42ea"
      },
      "source": [
        "text = \"{} I am a {} programmer and I {} Clarusway.\".format(\"Hello\", \"new\", \"love\")\n",
        "print(text)"
      ],
      "execution_count": 50,
      "outputs": [
        {
          "output_type": "stream",
          "name": "stdout",
          "text": [
            "Hello I am a new programmer and I love Clarusway.\n"
          ]
        }
      ]
    },
    {
      "cell_type": "code",
      "metadata": {
        "colab": {
          "base_uri": "https://localhost:8080/"
        },
        "id": "sdC1bnscSUT6",
        "outputId": "d305b1e8-ced2-4db5-f21c-82290af74f4c"
      },
      "source": [
        "city = \"SARAJEVO\"\n",
        "\n",
        "text = f\"I live in {city.capitalize()}.\"\n",
        "print(text)"
      ],
      "execution_count": 53,
      "outputs": [
        {
          "output_type": "stream",
          "name": "stdout",
          "text": [
            "I live in Sarajevo.\n"
          ]
        }
      ]
    },
    {
      "cell_type": "code",
      "metadata": {
        "id": "tUObJHYWXu9p"
      },
      "source": [
        ""
      ],
      "execution_count": null,
      "outputs": []
    },
    {
      "cell_type": "code",
      "metadata": {
        "id": "jGbZjyvMSUO9"
      },
      "source": [
        ""
      ],
      "execution_count": null,
      "outputs": []
    },
    {
      "cell_type": "code",
      "metadata": {
        "id": "OWBhM2lQSUKM"
      },
      "source": [
        ""
      ],
      "execution_count": null,
      "outputs": []
    },
    {
      "cell_type": "code",
      "metadata": {
        "id": "f7Z5QsarSStD"
      },
      "source": [
        ""
      ],
      "execution_count": null,
      "outputs": []
    },
    {
      "cell_type": "code",
      "metadata": {
        "id": "49MHi_3sSSj0"
      },
      "source": [
        ""
      ],
      "execution_count": null,
      "outputs": []
    },
    {
      "cell_type": "code",
      "metadata": {
        "id": "acfyxy2ySSIW"
      },
      "source": [
        ""
      ],
      "execution_count": null,
      "outputs": []
    },
    {
      "cell_type": "code",
      "metadata": {
        "id": "5vq-4e1cP2B4"
      },
      "source": [
        ""
      ],
      "execution_count": null,
      "outputs": []
    },
    {
      "cell_type": "code",
      "metadata": {
        "id": "bOUz9eU_P17T"
      },
      "source": [
        ""
      ],
      "execution_count": null,
      "outputs": []
    }
  ]
}