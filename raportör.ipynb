{
  "cells": [
    {
      "cell_type": "code",
      "execution_count": 3,
      "metadata": {
        "id": "afPheo6WrnAc"
      },
      "outputs": [],
      "source": [
        "# hızlı raporlama toolu"
      ]
    },
    {
      "cell_type": "code",
      "execution_count": 10,
      "metadata": {
        "colab": {
          "base_uri": "https://localhost:8080/"
        },
        "id": "1jMqYUMur0b6",
        "outputId": "12c62f65-00c1-4f65-b25b-311d90e04e17"
      },
      "outputs": [
        {
          "name": "stdout",
          "output_type": "stream",
          "text": [
            "Değerleme konusu taşınmaz, Kayseri İli, Ahmet İlçesi, Mevlana Mahallesi, Umut Caddesi, No:16/26 adresinde yer almaktadır. (UAVT:3330725148) Tarif olarak taşınmaza ulaşmak için Şehir merkezinden Sivas Bulvarı üzerinde, doğu yönünde yaklaşık 3 km. ilerlenerek Aşık Veysel Bulvarına dönülür ve 1 km. ilerlenerek Tavlusun Yolu caddesine dönülür. Yaklaşık 2 km. ilerlenerek Umut caddesine dönülür ve 1 km. ilerlendiğinde değerleme konusu taşınmaz solda yer almaktadır. Gayrimenkul Kayseri il merkezine yaklaşık olarak 6 km. mesafede yer almakta olup, yakın çevresinde bilinen önemli yerler Büyük Nesil Koleji ve Hacı Ali Bayraktar camiidir. Gayrimenkule toplu taşıma araçları ve özel araç ile ulaşım mümkündür. Taşınmaz okul, hastane, park, market gibi donatılara yakın konumdadır. Bölgede yol, elektrik, su, doğalgaz, kanalizasyon altyapıları tamamlanmış durumda olup, herhangi bir eksik yoktur.\n"
          ]
        }
      ],
      "source": [
        "ilçe = \"Ahmet\"\n",
        "mahalle = \"Mevlana\"\n",
        "cadde = \"Umut\"\n",
        "sokak = \"\"\n",
        "bina_no = \"16\"\n",
        "kapı_no = \"26\"\n",
        "uavt_no = \"3330725148\"\n",
        "paragraf_1 = (\n",
        "f\"Değerleme konusu taşınmaz, Kayseri İli, {ilçe} İlçesi, {mahalle} Mahallesi, {cadde or sokak} Caddesi, No:{bina_no}/{kapı_no} adresinde yer almaktadır. (UAVT:{uavt_no})\" # Caddesi/sokağı değişken olacak!\n",
        "f\" Tarif olarak taşınmaza ulaşmak için Şehir merkezinden Sivas Bulvarı üzerinde, doğu yönünde yaklaşık 3 km. ilerlenerek Aşık Veysel Bulvarına dönülür ve 1 km. ilerlenerek Tavlusun Yolu caddesine dönülür.\"\n",
        "f\" Yaklaşık 2 km. ilerlenerek Umut caddesine dönülür ve 1 km. ilerlendiğinde değerleme konusu taşınmaz solda yer almaktadır.\" # kayseri meydandan hedef adrese tarif!\n",
        "f\" Gayrimenkul Kayseri il merkezine yaklaşık olarak 6 km. mesafede yer almakta olup, yakın çevresinde bilinen önemli yerler Büyük Nesil Koleji ve Hacı Ali Bayraktar camiidir.\" \n",
        "f\" Gayrimenkule toplu taşıma araçları ve özel araç ile ulaşım mümkündür. Taşınmaz okul, hastane, park, market gibi donatılara yakın konumdadır.\" # yakın/uzak \"il merkezine mesafe><5 km.\"\" \n",
        "f\" Bölgede yol, elektrik, su, doğalgaz, kanalizasyon altyapıları tamamlanmış durumda olup, herhangi bir eksik yoktur.\"\n",
        ")\n",
        "print(paragraf_1)"
      ]
    },
    {
      "cell_type": "code",
      "execution_count": 3,
      "metadata": {},
      "outputs": [],
      "source": [
        "#import PyPDF2"
      ]
    },
    {
      "cell_type": "code",
      "execution_count": 11,
      "metadata": {
        "id": "308D7ZU6sndF"
      },
      "outputs": [],
      "source": [
        "#pdfFileObj = open(\"deneme.pdf\", \"rb\")\n",
        "#pdfReader = PyPDF2.PdfFileReader(pdfFileObj)\n",
        "#print(pdfReader.numPages)\n",
        "#pageObj = pdfReader.getPage(0)\n",
        "#print(pageObj.extractText())\n",
        "#pdfFileObj.close()"
      ]
    },
    {
      "cell_type": "code",
      "execution_count": 13,
      "metadata": {},
      "outputs": [
        {
          "data": {
            "text/plain": [
              "[(682.4466552734375, 24.0, 711.9668579101562, 38.0625, 'Tarih:', 0, 0, 0),\n",
              " (714.9310302734375,\n",
              "  24.0,\n",
              "  801.9495239257812,\n",
              "  38.0625,\n",
              "  '1-10-2021-15:14',\n",
              "  0,\n",
              "  0,\n",
              "  1)]"
            ]
          },
          "execution_count": 13,
          "metadata": {},
          "output_type": "execute_result"
        }
      ],
      "source": [
        "import fitz\n",
        "import pandas as pd\n",
        "doc = fitz.open(\"ornek1.pdf\")\n",
        "page1 = doc[0]\n",
        "words = page1.get_text(\"words\")\n",
        "words[0:2]\n"
      ]
    },
    {
      "cell_type": "code",
      "execution_count": 21,
      "metadata": {},
      "outputs": [
        {
          "ename": "AttributeError",
          "evalue": "'Page' object has no attribute 'first_annots'",
          "output_type": "error",
          "traceback": [
            "\u001b[1;31m---------------------------------------------------------------------------\u001b[0m",
            "\u001b[1;31mAttributeError\u001b[0m                            Traceback (most recent call last)",
            "\u001b[1;32m~\\AppData\\Local\\Temp/ipykernel_7016/3507998330.py\u001b[0m in \u001b[0;36m<module>\u001b[1;34m\u001b[0m\n\u001b[0;32m      1\u001b[0m \u001b[0mfirst_annots\u001b[0m\u001b[1;33m=\u001b[0m\u001b[1;33m[\u001b[0m\u001b[1;33m]\u001b[0m\u001b[1;33m\u001b[0m\u001b[1;33m\u001b[0m\u001b[0m\n\u001b[0;32m      2\u001b[0m \u001b[1;33m\u001b[0m\u001b[0m\n\u001b[1;32m----> 3\u001b[1;33m \u001b[0mrec\u001b[0m\u001b[1;33m=\u001b[0m\u001b[0mpage1\u001b[0m\u001b[1;33m.\u001b[0m\u001b[0mfirst_annots\u001b[0m\u001b[1;33m.\u001b[0m\u001b[0mrect\u001b[0m\u001b[1;33m\u001b[0m\u001b[1;33m\u001b[0m\u001b[0m\n\u001b[0m\u001b[0;32m      4\u001b[0m \u001b[1;33m\u001b[0m\u001b[0m\n\u001b[0;32m      5\u001b[0m \u001b[0mrec\u001b[0m\u001b[1;33m\u001b[0m\u001b[1;33m\u001b[0m\u001b[0m\n",
            "\u001b[1;31mAttributeError\u001b[0m: 'Page' object has no attribute 'first_annots'"
          ]
        }
      ],
      "source": [
        "first_annots=[]\n",
        "\n",
        "rec=page1.first_annots.rect\n",
        "\n",
        "rec\n",
        "\n",
        "#Information of words in first object is stored in mywords\n",
        "\n",
        "mywords = [w for w in words if fitz.Rect(w[:4]) in rec]\n",
        "\n",
        "ann= make_text(mywords)\n",
        "\n",
        "first_annots.append(ann)\n",
        "\n",
        "first_annots.append(ann)\n",
        "print(rec)\n",
        "print(first_annots)\n"
      ]
    },
    {
      "cell_type": "code",
      "execution_count": 1,
      "metadata": {},
      "outputs": [
        {
          "name": "stdout",
          "output_type": "stream",
          "text": [
            "15.0 celcius is equal 59.00 fahrenheit.\n"
          ]
        }
      ],
      "source": [
        "celcius = float(input(\"Please enter a celcius degree: \"))\n",
        "fahrenheit = (celcius * 1.8) + 32\n",
        "print(\"{} celcius is equal {:.2f} fahrenheit.\".format(celcius, fahrenheit))"
      ]
    },
    {
      "cell_type": "code",
      "execution_count": 11,
      "metadata": {},
      "outputs": [
        {
          "name": "stdout",
          "output_type": "stream",
          "text": [
            "100.0 km is equal to62.00 miles\n"
          ]
        }
      ],
      "source": [
        "km = float(input(\"Please enter km: \"))\n",
        "mile = 0.62*km\n",
        "print(\"{} km is equal to {:.2f} miles\".format(km, mile))"
      ]
    },
    {
      "cell_type": "code",
      "execution_count": 12,
      "metadata": {},
      "outputs": [
        {
          "name": "stdout",
          "output_type": "stream",
          "text": [
            "True\n"
          ]
        }
      ],
      "source": [
        "age = True\n",
        "chronic = True\n",
        "immune = True\n",
        "risk = age or chronic or immune\n",
        "print(risk)"
      ]
    },
    {
      "cell_type": "code",
      "execution_count": null,
      "metadata": {},
      "outputs": [],
      "source": []
    }
  ],
  "metadata": {
    "colab": {
      "name": "raportör.ipynb",
      "provenance": []
    },
    "interpreter": {
      "hash": "1a77833348a6a05d98e15657e93193bb8cd72ba122c15fc4032e7389abddf7af"
    },
    "kernelspec": {
      "display_name": "Python 3.8.10 64-bit",
      "name": "python3"
    },
    "language_info": {
      "codemirror_mode": {
        "name": "ipython",
        "version": 3
      },
      "file_extension": ".py",
      "mimetype": "text/x-python",
      "name": "python",
      "nbconvert_exporter": "python",
      "pygments_lexer": "ipython3",
      "version": "3.8.10"
    }
  },
  "nbformat": 4,
  "nbformat_minor": 2
}
